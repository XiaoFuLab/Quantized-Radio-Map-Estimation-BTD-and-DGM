{
 "cells": [
  {
   "cell_type": "code",
   "execution_count": 1,
   "id": "bebb89ce-7e2d-47cb-957a-b7d75237f69a",
   "metadata": {},
   "outputs": [],
   "source": [
    "%load_ext autoreload\n",
    "%autoreload 2"
   ]
  },
  {
   "cell_type": "code",
   "execution_count": 2,
   "id": "5db33b3f-e671-4506-8b84-b17d1c29d127",
   "metadata": {},
   "outputs": [],
   "source": [
    "import torch\n",
    "import numpy as np\n",
    "import scipy.interpolate as sip\n",
    "import matplotlib.pyplot as plt\n",
    "from IPython.display import clear_output, display"
   ]
  },
  {
   "cell_type": "code",
   "execution_count": 3,
   "id": "3c726abc-8b83-438d-a11d-802f433880f5",
   "metadata": {},
   "outputs": [],
   "source": [
    "from configs import *\n",
    "from quantization_model_log import *\n",
    "from qmc_utils import load_generator, load_data, load_all"
   ]
  },
  {
   "cell_type": "code",
   "execution_count": 4,
   "id": "c5b20513-414c-4c17-bd93-410de51d91c8",
   "metadata": {},
   "outputs": [],
   "source": [
    "from Trans import TransformLog\n",
    "from CostFunction import CostFunction"
   ]
  },
  {
   "cell_type": "code",
   "execution_count": 5,
   "id": "7107128e-9448-4037-aebc-040c592c3bdc",
   "metadata": {},
   "outputs": [],
   "source": [
    "z_dimension = 256\n",
    "device = torch.device(\"cuda:1\" if torch.cuda.is_available() else \"cpu\")\n",
    "\n",
    "random_seed = 777\n",
    "torch.manual_seed(random_seed)\n",
    "GAN_PATH = 'Model/sngan11_256_unnorm.pt'\n",
    "GAN_model = load_generator(GAN_PATH, device)"
   ]
  },
  {
   "cell_type": "code",
   "execution_count": 6,
   "id": "feeb51b1-8f44-48a0-bdb2-013a552d4a6e",
   "metadata": {},
   "outputs": [],
   "source": [
    "def predict_slf(Z, device=device):\n",
    "    R = Z.shape[0]//2\n",
    "    Ar = Z[:R,:,:]\n",
    "    Br = Z[R:,:,:]\n",
    "\n",
    "    def ll1_prod(Ar, Br):\n",
    "        Sr = torch.zeros((Ar.shape[0], 1, Ar.shape[1], Br.shape[1] ) ).to(device)\n",
    "        for i in range(Br.shape[0]):\n",
    "            Sr[i,0] = torch.matmul(Ar[i], Br[i].T)\n",
    "\n",
    "        return Sr\n",
    "\n",
    "    return ll1_prod(Ar, Br)"
   ]
  },
  {
   "cell_type": "code",
   "execution_count": null,
   "id": "c251f4af-e457-43fa-af12-20a07892d210",
   "metadata": {},
   "outputs": [],
   "source": []
  },
  {
   "cell_type": "code",
   "execution_count": 7,
   "id": "2a27c10a-c935-4d32-b2bc-4653f32718ab",
   "metadata": {
    "scrolled": true,
    "tags": []
   },
   "outputs": [],
   "source": [
    "def optimize_for(DATA_PATH, SELECT_METHOD, sampling_percent= 0.1, sigma_val = None, R=None):\n",
    "\n",
    "    random_seed = 83#777\n",
    "    torch.manual_seed(random_seed)\n",
    "    \n",
    "    if SELECT_METHOD == \"btd\":\n",
    "        generator = predict_slf\n",
    "    else:\n",
    "        generator = GAN_model\n",
    "    \n",
    "    #Data loading section\n",
    "    _, _, _, S_true, C_true, T_true = load_data(DATA_PATH, device)\n",
    "    \n",
    "    if R is None:\n",
    "        R, K = C_true.shape\n",
    "    else:\n",
    "        _, K = C_true.shape\n",
    "        print(R, \"is manually set.\")\n",
    "        \n",
    "    I, J = S_true.shape[1:]\n",
    "    \n",
    "    #Create mask for sampling measurements \n",
    "    Wx = create_mask_matrix(sampling_percent, fiber=True).to(device)\n",
    "    params = SelectParameters(bits = 3)\n",
    "    bin_boundaries = params.QUANTIZATION_BINS.to(device) \n",
    "\n",
    "    #Quantization parameters\n",
    "    if sigma_val is None:\n",
    "        std_probit  = params.std_probit\n",
    "    else:\n",
    "        std_probit = sigma_val\n",
    "\n",
    "\n",
    "    bias = params.OFFSET\n",
    "\n",
    "    # Transformation before quantization\n",
    "    h_eta = TransformLog(offset=bias)\n",
    "    trans_T = h_eta.trans(T_true)   \n",
    "\n",
    "    # obtain the observation Y\n",
    "    Y = quantize(trans_T, std_probit, bin_boundaries, device) #quantization\n",
    "    Y = Y.unsqueeze(dim=1)\n",
    "    \n",
    "    # Create cost function.\n",
    "    cost_func = CostFunction(Wx, params.lambdda, SELECT_METHOD, bin_boundaries, std_probit, device)\n",
    "\n",
    "    # S,C,Z are the variables that will be modified during iteration.\n",
    "    S = torch.zeros( (R, 1, I, J) ).to(device)\n",
    "    C = 0.1*torch.rand((R, K)).to(device)\n",
    "\n",
    "    if SELECT_METHOD == \"btd\":\n",
    "        L = 10\n",
    "        print(min(np.floor(I/L), R)+ min(np.floor(J/L), R), R+2, \"...>=...\" , I, J, K, R, L)\n",
    "        Z = 1e-1*torch.rand((2*R, I, L)).to(device)\n",
    "    else:\n",
    "        Z = torch.randn((R, z_dimension), dtype=torch.float32).to(device) \n",
    "        ###This part is not necessary. Just to find the good initial z from GAN latent embedding to start optimization########\n",
    "        min_criterion = 9999999\n",
    "        # First Z is sampled from unit variance ball\n",
    "        for t in range(200):\n",
    "            temp = torch.randn((R,z_dimension), dtype=torch.float32).to(device)\n",
    "            temp_out = generator(temp)\n",
    "            T_hat_ = get_tensor(temp_out, C, device)\n",
    "            T_hat_ = T_hat_.unsqueeze(dim=1)\n",
    "            T_hat = h_eta.trans(T_hat_)\n",
    "            temp_criterion = cost_func.calculate_cost(Y, T_hat, C, Z)\n",
    "\n",
    "            if  temp_criterion < min_criterion:\n",
    "                Z.data = temp.clone()\n",
    "                min_criterion = temp_criterion\n",
    "    \n",
    "\n",
    "    Z = Z.detach().clone()\n",
    "    C.requires_grad = True\n",
    "    Z.requires_grad = True\n",
    "\n",
    "    alpha = params.alpha\n",
    "    beta = params.beta\n",
    "    optimizerC = torch.optim.Adam([C], lr=alpha)\n",
    "    optimizerZ = torch.optim.Adam([Z], lr=beta)\n",
    "    with torch.no_grad():\n",
    "        S = generator(Z)\n",
    "    \n",
    "    \n",
    "    epsilon = 1e-3\n",
    "    maxIter = 500 #Maximum Iterations to run for optimizing C and S\n",
    "    prev_cost = 0\n",
    "    \n",
    "    for i in range(maxIter):\n",
    "        #########################################################\n",
    "        # C optimization step\n",
    "        # Avoid adding S to computation graph      \n",
    "        Sc = S.detach().clone()\n",
    "        optimizerC.zero_grad()\n",
    "        T_hat_ = get_tensor(Sc, C, device)\n",
    "        T_hat_ = T_hat_.unsqueeze(dim=1)\n",
    "        T_hat = h_eta.trans(T_hat_)\n",
    "        cost = cost_func.calculate_cost(Y, T_hat, C, Z)\n",
    "        cost.backward()\n",
    "        optimizerC.step()\n",
    "        with torch.no_grad():\n",
    "            C[C<0] = 0  # Project C to non-negative orthrant\n",
    "\n",
    "        # S iterations\n",
    "        #######################################################\n",
    "        S = generator(Z)\n",
    "        optimizerZ.zero_grad()\n",
    "        T_hat_ = get_tensor(S, C, device)\n",
    "        T_hat_ = T_hat_.unsqueeze(dim=1)\n",
    "        T_hat = h_eta.trans(T_hat_)\n",
    "        cost = cost_func.calculate_cost(Y, T_hat, C, Z)\n",
    "        cost.backward()\n",
    "        # print(\"second cost\", cost)\n",
    "        optimizerZ.step()\n",
    "        if SELECT_METHOD == \"btd\":\n",
    "            with torch.no_grad():\n",
    "                # Projecting A and B to positive orthant\n",
    "                Z[Z<0] = 0.0\n",
    "\n",
    "        ############ log performance #####################\n",
    "        with torch.no_grad():\n",
    "            T_temp = get_tensor(S,C, device)\n",
    "            costs = cost.cpu().detach().numpy() \n",
    "            log_nmses = NMSE_LOG(T_temp, T_true).cpu().detach().numpy()\n",
    "            \n",
    "        #####################################################\n",
    "        # print('Iterations {}, Cost: {}, LOG-NMSE:{}'.format(i, costs, log_nmses ))\n",
    "        # print(\"..\"*40)\n",
    "        if abs(costs - prev_cost) < epsilon:\n",
    "            break\n",
    "        \n",
    "    log_nmses = log_nmses.item()\n",
    "    if SELECT_METHOD == \"btd\":\n",
    "        final_lnmse = (Wx[0].cpu().squeeze().numpy(), log_nmses)\n",
    "    else:\n",
    "        final_lnmse = log_nmses      \n",
    "        \n",
    "    return T_temp.detach().cpu(), S.detach().cpu(), C.detach().cpu(), final_lnmse"
   ]
  },
  {
   "cell_type": "code",
   "execution_count": null,
   "id": "ae2dffe6-6b1c-4b29-98a0-28b7a4c0ff3e",
   "metadata": {},
   "outputs": [],
   "source": []
  },
  {
   "cell_type": "code",
   "execution_count": 8,
   "id": "44178acc-5857-425e-b0f6-74455804e17d",
   "metadata": {},
   "outputs": [
    {
     "name": "stdout",
     "output_type": "stream",
     "text": [
      "2 emitters.\n"
     ]
    },
    {
     "data": {
      "image/png": "[encoded data removed]",
      "text/plain": [
       "<Figure size 720x216 with 3 Axes>"
      ]
     },
     "metadata": {
      "needs_background": "light"
     },
     "output_type": "display_data"
    }
   ],
   "source": [
    "# Load Data\n",
    "\n",
    "DATA_PATH = \"RadioMaps/2_2.mat\"\n",
    "S_init, C_init, T, S_true, C_true, T_true, Z_init, Z = load_all( DATA_PATH, z_dimension, device, visualize_data=True, k=30)"
   ]
  },
  {
   "cell_type": "code",
   "execution_count": null,
   "id": "982656c8-528a-4f3c-bdcb-8094ff68cf1f",
   "metadata": {},
   "outputs": [],
   "source": []
  },
  {
   "cell_type": "code",
   "execution_count": 9,
   "id": "53fdda1e-4c25-4dc0-b259-04aeee47c290",
   "metadata": {
    "scrolled": true,
    "tags": []
   },
   "outputs": [
    {
     "name": "stdout",
     "output_type": "stream",
     "text": [
      "dgm is running.\n",
      "btd is running.\n",
      "4 4 ...>=... 51 51 64 2 10\n"
     ]
    }
   ],
   "source": [
    "for SELECT_METHOD in [\"dgm\", \"btd\"]: \n",
    "    print(SELECT_METHOD, \"is running.\")\n",
    "    \n",
    "    metadata = optimize_for(DATA_PATH, SELECT_METHOD, sampling_percent=0.1)\n",
    "\n",
    "    if SELECT_METHOD == \"btd\":\n",
    "        T_raw, S_raw, C_btd, lnmse_raw = metadata\n",
    "        #Using TPS enhancement (mentioned in btd paper)\n",
    "        Om, lnmse_btd = lnmse_raw \n",
    "        x_sample, y_sample = np.where(Om == 1)\n",
    "\n",
    "        S_btd = np.zeros( S_raw.shape )\n",
    "        for idx, S_i in enumerate(S_raw.detach()):\n",
    "            s = S_i.squeeze()\n",
    "            s = s[x_sample, y_sample].numpy()\n",
    "            yi, xi = np.mgrid[0:51, 0:51]\n",
    "            interp = sip.Rbf(x_sample, y_sample, s, function='thin_plate')\n",
    "            S_btd[idx, 0] = interp(xi, yi).T\n",
    "\n",
    "        S_btd = torch.tensor(S_btd)\n",
    "        S_btd[S_btd <= 0] = torch.quantile(S_btd[S_btd > 0], 0.25)\n",
    "        T_btd =  get_tensor(S_btd, C_btd, device)\n",
    "        \n",
    "    elif SELECT_METHOD == \"dgm\":\n",
    "        T_dgm, S_dgm, C_dgm, lnmse_dgm = metadata"
   ]
  },
  {
   "cell_type": "code",
   "execution_count": 10,
   "id": "a57d1bf3",
   "metadata": {},
   "outputs": [
    {
     "data": {
      "text/plain": [
       "Text(0.5, 1.0, 'True Map')"
      ]
     },
     "execution_count": 10,
     "metadata": {},
     "output_type": "execute_result"
    },
    {
     "data": {
      "image/png": "[encoded data removed]",
      "text/plain": [
       "<Figure size 720x360 with 3 Axes>"
      ]
     },
     "metadata": {
      "needs_background": "light"
     },
     "output_type": "display_data"
    }
   ],
   "source": [
    "k = 30\n",
    "radio_maps = [torch.log(i[k,...]).cpu().squeeze().detach().numpy() for i in [T_true, T_btd, T_dgm]]\n",
    "titles = ['True Map', 'BTD Reconstruction', 'DGM Reconstruction']\n",
    "lnres = [\"LNRE: \" + str(i)[:6] for i in [lnmse_btd, lnmse_dgm] ]\n",
    "\n",
    "fig, ax = plt.subplots(1, 3, figsize=(10,5) )\n",
    "    \n",
    "for i in range(2):\n",
    "    ax[i+1].imshow(radio_maps[i+1], cmap=\"jet\")\n",
    "    ax[i+1].set_title(titles[i+1])\n",
    "    ax[i+1].axes.xaxis.set_ticks([])\n",
    "    ax[i+1].axes.yaxis.set_ticks([])\n",
    "    ax[i+1].set_xlabel(lnres[i])\n",
    "    \n",
    "ax[0].imshow(radio_maps[0], cmap=\"jet\")\n",
    "ax[0].set_title(titles[0])\n",
    "\n"
   ]
  },
  {
   "cell_type": "code",
   "execution_count": null,
   "id": "bcdfce99-0d7c-4705-8f27-14de9e006f64",
   "metadata": {},
   "outputs": [],
   "source": []
  },
  {
   "cell_type": "code",
   "execution_count": null,
   "id": "70d687b6-a71f-4c75-8a77-c512b0b1fed0",
   "metadata": {},
   "outputs": [],
   "source": []
  },
  {
   "cell_type": "code",
   "execution_count": null,
   "id": "086d8425-9b43-4ea7-a071-f3f810ffbb79",
   "metadata": {},
   "outputs": [],
   "source": []
  },
  {
   "cell_type": "code",
   "execution_count": null,
   "id": "f13cc8bf-73de-48e1-ba7c-7d7c2cab9ab9",
   "metadata": {},
   "outputs": [],
   "source": []
  },
  {
   "cell_type": "code",
   "execution_count": null,
   "id": "ad8b29dc-3c6d-4ac4-be00-76cecd6dc24b",
   "metadata": {},
   "outputs": [],
   "source": []
  }
 ],
 "metadata": {
  "kernelspec": {
   "display_name": "Python 3 (ipykernel)",
   "language": "python",
   "name": "python3"
  },
  "language_info": {
   "codemirror_mode": {
    "name": "ipython",
    "version": 3
   },
   "file_extension": ".py",
   "mimetype": "text/x-python",
   "name": "python",
   "nbconvert_exporter": "python",
   "pygments_lexer": "ipython3",
   "version": "3.9.12"
  }
 },
 "nbformat": 4,
 "nbformat_minor": 5
}
